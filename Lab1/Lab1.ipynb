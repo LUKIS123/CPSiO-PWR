{
 "cells": [
  {
   "cell_type": "code",
   "execution_count": 3,
   "metadata": {},
   "outputs": [
    {
     "name": "stdout",
     "output_type": "stream",
     "text": [
      "test\n"
     ]
    }
   ],
   "source": [
    "print(\"test\")"
   ]
  },
  {
   "cell_type": "markdown",
   "metadata": {},
   "source": [
    "Dla Maksa jakby nie rozumiał:\n",
    "\n",
    "    for i in range(len(data_ekg1[0])):\n",
    "        plt.plot(ekg1_time, data_ekg1[:, i])\n",
    "\n",
    "to to samo co to\n",
    "\n",
    "    # plt.plot(ekg1_time, data_ekg1[:, 0])\n",
    "    # plt.plot(ekg1_time, data_ekg1[:, 1])\n",
    "    # plt.plot(ekg1_time, data_ekg1[:, 2])\n",
    "    # plt.plot(ekg1_time, data_ekg1[:, 3])\n",
    "    # plt.plot(ekg1_time, data_ekg1[:, 4])\n",
    "    # plt.plot(ekg1_time, data_ekg1[:, 5])\n",
    "    # plt.plot(ekg1_time, data_ekg1[:, 6])\n",
    "    # plt.plot(ekg1_time, data_ekg1[:, 7])\n",
    "    # plt.plot(ekg1_time, data_ekg1[:, 8])\n",
    "    # plt.plot(ekg1_time, data_ekg1[:, 9])\n",
    "    # plt.plot(ekg1_time, data_ekg1[:, 10])\n",
    "    # plt.plot(ekg1_time, data_ekg1[:, 11])\n"
   ]
  },
  {
   "cell_type": "markdown",
   "metadata": {},
   "source": [
    "Test"
   ]
  },
  {
   "cell_type": "code",
   "execution_count": 4,
   "metadata": {},
   "outputs": [
    {
     "name": "stdout",
     "output_type": "stream",
     "text": [
      "c:\\Users\\lukas\\AppData\\Local\\Programs\\Python\\Python312\\python.exe\n",
      "3.12.0 (tags/v3.12.0:0fb18b0, Oct  2 2023, 13:03:39) [MSC v.1935 64 bit (AMD64)]\n"
     ]
    }
   ],
   "source": [
    "import sys\n",
    "\n",
    "print(sys.executable)\n",
    "print(sys.version)\n",
    "# c:\\Users\\lukas\\AppData\\Local\\Programs\\Python\\Python312\\python.exe -m pip install pandas"
   ]
  }
 ],
 "metadata": {
  "kernelspec": {
   "display_name": "Python 3",
   "language": "python",
   "name": "python3"
  },
  "language_info": {
   "codemirror_mode": {
    "name": "ipython",
    "version": 3
   },
   "file_extension": ".py",
   "mimetype": "text/x-python",
   "name": "python",
   "nbconvert_exporter": "python",
   "pygments_lexer": "ipython3",
   "version": "3.12.0"
  }
 },
 "nbformat": 4,
 "nbformat_minor": 2
}
